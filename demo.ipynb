{
 "cells": [
  {
   "cell_type": "markdown",
   "metadata": {},
   "source": [
    "### Quick Q & A\n",
    "\n",
    "#### 1. Why create this notebook as we can run everything with the .py files in this folder?\n",
    "Ans: Jupyter notebook is excellent for interation between coding and explanation.\n",
    "\n",
    "#### 2. What's here?\n",
    "Ans: Pretty much everything of the case study part in my final report. If you like a list, here it is:\n",
    "\n",
    "- Part 1. Comparison btw CPU cases w/o JIT and w/ JIT (JIT: Just-in-Time compilation).\n",
    "- Part 2. Comparison btw CPU and Numba CUDA for naive algorithm (JIT is now the default for everything below).\n",
    "- Part 3. Comparison btw CPU and Numba CUDA for optimized algorithm.\n",
    "- Part 4. Comparison btw CPU and Numba CUDA for optimized algorithm with lane changing.\n",
    "- Part 5. Animation (If you like animation, scroll down to this part first).\n",
    "- Part 6. Converge to equilibrium state.\n",
    "\n",
    "#### 3. Will I see much code here? Suppose I don't like to see the lengthy code blocks.\n",
    "Ans: No, only neat function calls will be included here. In case you want to know details of the coding part, check the .py files in this folder."
   ]
  },
  {
   "cell_type": "markdown",
   "metadata": {},
   "source": [
    "### API Call"
   ]
  },
  {
   "cell_type": "markdown",
   "metadata": {},
   "source": [
    "Every time we do the simulation, we just run the following:\n",
    "\n",
    "```\n",
    "road, speed, accel = traffic_{suffix}(sim_steps, road_length, cell_size, traffic_density)\n",
    "```\n",
    "\n",
    "API ```traffic_{suffix}``` can be the following:\n",
    "- ```traffic_cpu_nojit_naive```:  Naive algorithm based on CPU w/o JIT compilation.\n",
    "- ```traffic_cpu_naive```:  Naive algorithm based on CPU w/ JIT compilation.\n",
    "- ```traffic_cuda_naive```:  Naive algorithm based on CUDA (w/ JIT compilation by default for following programs).\n",
    "- ```traffic_cpu```:  Optimized algorithm based on CPU.\n",
    "- ```traffic_cuda```:  Optimized algorithm based on CUDA.\n",
    "- ```traffic_cpu_lc```:  Optimized algorithm w/ lane changing based on CPU.\n",
    "- ```traffic_cuda_lc```:  Optimized algorithm w/ lane changing based on CUDA.\n",
    "\n",
    "Input parameter explanation:\n",
    "- sim_steps: Total time steps for the simulation. Usually, it takes $10^2$ ~ $10^3$ steps for the traffic to converge to a steady state.\n",
    "- road_length: Length of the road section, in unit kilometer (1 km ~ 0.6 mile).\n",
    "- cell_size: The physical length represented by a cell, in unit meter (1 m ~ 3 ft). Recommend to use $\\leq 1m$ for precision consideration.\n",
    "- traffic_density: Number of vehicles on a unit length of road section for a single lane, in unit vehicles/km/lane. The max value is set to be 90 and any value higher than 90 will be set to 90 without warning.\n",
    "- Others: other parameters not listed as the input include number of lanes (4), max speed (108km/h or 67mph), car size (5m), and etc. They can be found and editted in ```CONS.py```.\n",
    "\n",
    "Return parameters:\n",
    "- ```road```: An $NL \\times NC$ matrix, where $NL$ is the number of lanes, $NC$ is the number of cells along the road and $NC = \\frac{road \\_ length}{cell \\_ size} $. If there is a vehicle on a cell $i, j$, ```road[i][j]=vehicle_id```, otherwise ```road[i][j]=0```. ```vehicle_id``` is a unique number assigned to a vehicle created at $time = 0$ and ranges from $1$ to $N_v$, total number of vehicles. All vehicles will move from $j=0$ towards $j=NC-1$, but they will also come back to the starting side when passing $j=NC-1$, just like a ring. So an **equilibrium state** will be reached eventually.\n",
    "- ```speed```: An $NL \\times NC$ matrix storing speed of all the vehicles. ```speed[i][j]=v_k``` is the speed of the vehicle $k$ on cell ```road[i][j]```. If no vehicle on ```road[i][j]```, ```speed[i][j]=0```.\n",
    "- ```accel```: An $NL \\times NC$ matrix storing acceleration value of all the vehicles, like ```speed```.\n",
    "\n",
    "Below are an example of ```road``` matrix:"
   ]
  },
  {
   "cell_type": "markdown",
   "metadata": {},
   "source": [
    "<img src=\"imgs/road-demo.png\" width=\"500\">"
   ]
  },
  {
   "cell_type": "markdown",
   "metadata": {},
   "source": [
    "### Part 1. Comparison btw CPU cases w/ & w/o JIT"
   ]
  },
  {
   "cell_type": "markdown",
   "metadata": {},
   "source": [
    "C++ is quick because it compiles every line of code to machine code (0101010...) before running. Python is slow because it interpretes a line of code every time it is executed. If you have a 'for' loop, Python is really bad at it.\n",
    "\n",
    "Now we have Numba, which compiles a python function and stores it in the cache for later reuse (the so called Just-in-Time compilation). This helps to speed the Python program to something near C++.  To do so, what we need to do is just add an '@njit' decorator to the python function. For example:\n",
    "```\n",
    "@njit\n",
    "def Foo(a, b):\n",
    "    return a + b\n",
    "```\n",
    "\n",
    "Let's now compare the performance of CPU code with and without JIT."
   ]
  },
  {
   "cell_type": "code",
   "execution_count": 85,
   "metadata": {},
   "outputs": [],
   "source": [
    "import numpy as np\n",
    "from integrate_naive import traffic_cpu_nojit_naive, traffic_cpu_naive\n",
    "\n",
    "# define parameters\n",
    "sim_steps = 10 # Use 10 for shorter waiting time...\n",
    "road_length = 10 # km\n",
    "cell_size = 0.1 # m\n",
    "traffic_density = 30 # veh/km/lane"
   ]
  },
  {
   "cell_type": "markdown",
   "metadata": {},
   "source": [
    "Let's time the CPU code without JIT compilation."
   ]
  },
  {
   "cell_type": "code",
   "execution_count": 86,
   "metadata": {},
   "outputs": [
    {
     "name": "stdout",
     "output_type": "stream",
     "text": [
      "2.81 s ± 28.1 ms per loop (mean ± std. dev. of 7 runs, 1 loop each)\n"
     ]
    }
   ],
   "source": [
    "%timeit road, speed, accel = traffic_cpu_nojit_naive(sim_steps, road_length, cell_size, traffic_density)"
   ]
  },
  {
   "cell_type": "markdown",
   "metadata": {},
   "source": [
    "Then time it with JIT compilation. Note: If you run it without the ```%timeit``` function, the first run can be slow because JIT has overhead in compilation. The acceleration will only be seen from the second run!"
   ]
  },
  {
   "cell_type": "code",
   "execution_count": 66,
   "metadata": {},
   "outputs": [
    {
     "name": "stdout",
     "output_type": "stream",
     "text": [
      "9.2 ms ± 36 µs per loop (mean ± std. dev. of 7 runs, 100 loops each)\n"
     ]
    }
   ],
   "source": [
    "%timeit road, speed, accel = tcomparaffic_cpu_naive(sim_steps, road_length, cell_size, traffic_density)"
   ]
  },
  {
   "cell_type": "markdown",
   "metadata": {},
   "source": [
    "We can see that the case with JIT is more than **100x** faster. JIT compilation will the **default** in our following implementation for fair comparison btw CPU and GPU."
   ]
  },
  {
   "cell_type": "markdown",
   "metadata": {},
   "source": [
    "### Part 2. Comparison btw CPU and Numba CUDA for naive algorithm"
   ]
  },
  {
   "cell_type": "markdown",
   "metadata": {},
   "source": [
    "For a small road section (1km), CPU is actually faster than CUDA because CUDA has memory transfer overhead."
   ]
  },
  {
   "cell_type": "code",
   "execution_count": 81,
   "metadata": {},
   "outputs": [],
   "source": [
    "import numpy as np\n",
    "from integrate_naive import traffic_cpu_naive, traffic_cuda_naive\n",
    "\n",
    "# define parameters\n",
    "sim_steps = 100\n",
    "road_length = 1\n",
    "cell_size = 0.1\n",
    "traffic_density = 30"
   ]
  },
  {
   "cell_type": "code",
   "execution_count": 5,
   "metadata": {},
   "outputs": [
    {
     "name": "stdout",
     "output_type": "stream",
     "text": [
      "876 µs ± 2.96 µs per loop (mean ± std. dev. of 7 runs, 1000 loops each)\n"
     ]
    }
   ],
   "source": [
    "# CPU\n",
    "%timeit road, speed, accel = traffic_cpu_naive(sim_steps, road_length, cell_size, traffic_density)"
   ]
  },
  {
   "cell_type": "code",
   "execution_count": 6,
   "metadata": {},
   "outputs": [
    {
     "name": "stdout",
     "output_type": "stream",
     "text": [
      "7.98 ms ± 231 µs per loop (mean ± std. dev. of 7 runs, 1 loop each)\n"
     ]
    }
   ],
   "source": [
    "# CUDA\n",
    "%timeit road, speed, accel = traffic_cuda_naive(sim_steps, road_length, cell_size, traffic_density)"
   ]
  },
  {
   "cell_type": "markdown",
   "metadata": {},
   "source": [
    "For more simulation steps and a larger road section (100km), now CUDA beats CPU."
   ]
  },
  {
   "cell_type": "code",
   "execution_count": 7,
   "metadata": {},
   "outputs": [],
   "source": [
    "sim_steps = 100\n",
    "road_length = 100"
   ]
  },
  {
   "cell_type": "code",
   "execution_count": 8,
   "metadata": {},
   "outputs": [
    {
     "name": "stdout",
     "output_type": "stream",
     "text": [
      "1.37 s ± 14 ms per loop (mean ± std. dev. of 7 runs, 1 loop each)\n"
     ]
    }
   ],
   "source": [
    "%timeit road, speed, accel = traffic_cpu_naive(sim_steps, road_length, cell_size, traffic_density)"
   ]
  },
  {
   "cell_type": "code",
   "execution_count": 9,
   "metadata": {},
   "outputs": [
    {
     "name": "stdout",
     "output_type": "stream",
     "text": [
      "186 ms ± 3.25 ms per loop (mean ± std. dev. of 7 runs, 1 loop each)\n"
     ]
    }
   ],
   "source": [
    "%timeit road, speed, accel = traffic_cuda_naive(sim_steps, road_length, cell_size, traffic_density)"
   ]
  },
  {
   "cell_type": "markdown",
   "metadata": {},
   "source": [
    "Even though CUDA is faster now, there is a major problem of the naive algorithm: **warp divergence**, because each thread needs to operate on a cell, regardless of whether this cell has a vehicle or not. We will improve this in the following section."
   ]
  },
  {
   "cell_type": "markdown",
   "metadata": {},
   "source": [
    "P.S. To verify if CUDA gives us the correct answer, we can compare it with CPU outputs:"
   ]
  },
  {
   "cell_type": "code",
   "execution_count": 10,
   "metadata": {},
   "outputs": [],
   "source": [
    "road_0, speed_0, accel_0 = traffic_cpu_naive(sim_steps, road_length, cell_size, traffic_density)\n",
    "road, speed, accel = traffic_cuda_naive(sim_steps, road_length, cell_size, traffic_density)"
   ]
  },
  {
   "cell_type": "code",
   "execution_count": 11,
   "metadata": {},
   "outputs": [
    {
     "data": {
      "text/plain": [
       "0"
      ]
     },
     "execution_count": 11,
     "metadata": {},
     "output_type": "execute_result"
    }
   ],
   "source": [
    "# Check road matrices are identical\n",
    "np.sum(np.array(road != road_0, dtype = np.bool))"
   ]
  },
  {
   "cell_type": "code",
   "execution_count": 12,
   "metadata": {},
   "outputs": [
    {
     "data": {
      "text/plain": [
       "0"
      ]
     },
     "execution_count": 12,
     "metadata": {},
     "output_type": "execute_result"
    }
   ],
   "source": [
    "# Check speed matrices are identical\n",
    "np.sum(np.array(speed != speed_0, dtype = np.bool))"
   ]
  },
  {
   "cell_type": "code",
   "execution_count": 13,
   "metadata": {},
   "outputs": [
    {
     "data": {
      "text/plain": [
       "0"
      ]
     },
     "execution_count": 13,
     "metadata": {},
     "output_type": "execute_result"
    }
   ],
   "source": [
    "# Check acceleration matrices are identical\n",
    "np.sum(np.array(accel != accel_0, dtype = np.bool))"
   ]
  },
  {
   "cell_type": "markdown",
   "metadata": {},
   "source": [
    "### Part 3. Comparison btw CPU and Numba CUDA for optimized algorithm"
   ]
  },
  {
   "cell_type": "markdown",
   "metadata": {},
   "source": [
    "We now develop an optimized algorithm. The general idea is to use two arrays ```pos_x``` and ```pos_y``` to store the positions of vehicles. It benefits both CPU and CUDA programs. For CPU, previously we need two ```for``` loops to check each cell in the road matrix, now we can directly access their positions without these ```for``` loops. For CUDA, previously we need to use 2D thread blocks to cover the entire ```road``` matrix, now we only need 1D thread blocks to cover ```pos_x``` and ```pos_y```, then there will be less overhead in launching blocks and also less warp divergence."
   ]
  },
  {
   "cell_type": "code",
   "execution_count": 104,
   "metadata": {},
   "outputs": [],
   "source": [
    "import numpy as np\n",
    "from integrate import traffic_cpu, traffic_cuda\n",
    "\n",
    "# define parameters\n",
    "sim_steps = 100\n",
    "road_length = 100\n",
    "cell_size = 0.1\n",
    "traffic_density = 30"
   ]
  },
  {
   "cell_type": "code",
   "execution_count": 71,
   "metadata": {},
   "outputs": [
    {
     "name": "stdout",
     "output_type": "stream",
     "text": [
      "840 ms ± 10.7 ms per loop (mean ± std. dev. of 7 runs, 1 loop each)\n"
     ]
    }
   ],
   "source": [
    "%timeit road, speed, accel = traffic_cpu(sim_steps, road_length, cell_size, traffic_density)"
   ]
  },
  {
   "cell_type": "code",
   "execution_count": 72,
   "metadata": {},
   "outputs": [
    {
     "name": "stdout",
     "output_type": "stream",
     "text": [
      "86.7 ms ± 275 µs per loop (mean ± std. dev. of 7 runs, 10 loops each)\n"
     ]
    }
   ],
   "source": [
    "%timeit road, speed, accel = traffic_cuda(sim_steps, road_length, cell_size, traffic_density)"
   ]
  },
  {
   "cell_type": "markdown",
   "metadata": {},
   "source": [
    "We see a significant improvement compared with previous naive version. We further run more simulations and record the execution time. We will vary the ```road_length``` in the following case study. The ```sim_steps, cell_size, traffic_density``` will be fixed at 100, 0.1, and 30 respectively. "
   ]
  },
  {
   "cell_type": "code",
   "execution_count": 106,
   "metadata": {},
   "outputs": [],
   "source": [
    "import time\n",
    "import numpy as np\n",
    "from matplotlib import pyplot as plt\n",
    "from integrate_naive import traffic_cpu_naive, traffic_cuda_naive\n",
    "\n",
    "sim_steps = 100\n",
    "cell_size = 0.1\n",
    "traffic_density = 30"
   ]
  },
  {
   "cell_type": "markdown",
   "metadata": {},
   "source": [
    "Remember to run the following cell **twice** for JIT to compile:"
   ]
  },
  {
   "cell_type": "code",
   "execution_count": 111,
   "metadata": {},
   "outputs": [],
   "source": [
    "rls = [1, 5, 10, 20, 40, 100]\n",
    "t_cpu_naive = []\n",
    "t_cpu = []\n",
    "t_cuda_naive = []\n",
    "t_cuda = []\n",
    "\n",
    "for rl in rls:\n",
    "    # cpu, naive\n",
    "    t0 = time.time()\n",
    "    traffic_cpu_naive(sim_steps, rl, cell_size, traffic_density)\n",
    "    t1 = time.time()\n",
    "    t_cpu_naive.append(t1 - t0)\n",
    "    \n",
    "    # cpu, optimized\n",
    "    t0 = time.time()\n",
    "    traffic_cpu(sim_steps, rl, cell_size, traffic_density)\n",
    "    t1 = time.time()\n",
    "    t_cpu.append(t1 - t0)\n",
    "    \n",
    "    # cuda, naive\n",
    "    t0 = time.time()\n",
    "    traffic_cuda_naive(sim_steps, rl, cell_size, traffic_density)\n",
    "    t1 = time.time()\n",
    "    t_cuda_naive.append(t1 - t0)\n",
    "    \n",
    "    # cuda, optimized\n",
    "    t0 = time.time()\n",
    "    traffic_cuda(sim_steps, rl, cell_size, traffic_density)\n",
    "    t1 = time.time()\n",
    "    t_cuda.append(t1 - t0)"
   ]
  },
  {
   "cell_type": "markdown",
   "metadata": {},
   "source": [
    "We first do an overall comparison:"
   ]
  },
  {
   "cell_type": "code",
   "execution_count": 112,
   "metadata": {
    "scrolled": false
   },
   "outputs": [
    {
     "data": {
      "image/png": "[encoded data removed]",
      "text/plain": [
       "<Figure size 432x432 with 2 Axes>"
      ]
     },
     "metadata": {
      "needs_background": "light"
     },
     "output_type": "display_data"
    }
   ],
   "source": [
    "fig = plt.figure(figsize = (6, 6))\n",
    "ax = fig.add_subplot(211)\n",
    "ax.plot(rls, t_cpu_naive, marker = 'o', label = 'CPU, Naive')\n",
    "ax.plot(rls, t_cpu, marker = 'o', label = 'CPU, Optimized')\n",
    "ax.set_ylabel('Execution Time (s)')\n",
    "# ax.set_xlabel('Road Length (km)')\n",
    "ax.legend()\n",
    "\n",
    "ax1 = fig.add_subplot(212)\n",
    "ax1.plot(rls, t_cuda_naive, marker = 'o', label = 'CUDA, Naive')\n",
    "ax1.plot(rls, t_cuda, marker = 'o',  label = 'CUDA, Optimized')\n",
    "ax1.set_ylabel('Execution Time (s)')\n",
    "ax1.set_xlabel('Road Length (km)')\n",
    "ax1.legend()\n",
    "# plt.savefig(\"naive-op.png\", dpi=150)"
   ]
  },
  {
   "cell_type": "markdown",
   "metadata": {},
   "source": [
    "Optimized algorithm is almost twice faster than the naive version, for both CPU and CUDA."
   ]
  },
  {
   "cell_type": "markdown",
   "metadata": {},
   "source": [
    "For the optimized version, let's take a look at how much faster CUDA is to CPU."
   ]
  },
  {
   "cell_type": "code",
   "execution_count": 114,
   "metadata": {},
   "outputs": [
    {
     "data": {
      "image/png": "[encoded data removed]",
      "text/plain": [
       "<Figure size 720x432 with 2 Axes>"
      ]
     },
     "metadata": {
      "needs_background": "light"
     },
     "output_type": "display_data"
    }
   ],
   "source": [
    "def autolabel(ax, rects):\n",
    "    \"\"\"Attach a text label above each bar in *rects*, displaying its height.\"\"\"\n",
    "    for rect in rects:\n",
    "        height = rect.get_height()\n",
    "        ax.annotate('{}'.format(height),\n",
    "                    xy=(rect.get_x() + rect.get_width() / 2, height),\n",
    "                    xytext=(0, 3),  # 3 points vertical offset\n",
    "                    textcoords=\"offset points\",\n",
    "                    ha='center', va='bottom')\n",
    "\n",
    "plt.rc('font', size=13) \n",
    "fig = plt.figure(figsize = (10, 6))\n",
    "ax = fig.add_subplot(211)\n",
    "\n",
    "width = 0.35  # the width of the bars\n",
    "labels = [str(rl) for rl in rls]\n",
    "x = np.arange(len(labels))  # the label locations\n",
    "t_cpu_rd = [round(t, 3) for t in t_cpu]\n",
    "t_cuda_rd = [round(t, 3) for t in t_cuda]\n",
    "\n",
    "rects1 = ax.bar(x - width/2, height = t_cpu_rd, width = width, label = 'CPU, Optimized')\n",
    "rects2 = ax.bar(x + width/2, height = t_cuda_rd, width = width, label = 'CUDA, Optimized')\n",
    "# ax.set_xlabel('Road Length (km)')\n",
    "ax.set_ylabel('Execution Time (s)')\n",
    "ax.set_ylim(0, max(t_cpu) * 1.2)\n",
    "ax.set_xticks(x)\n",
    "ax.set_xticklabels(labels)\n",
    "ax.legend()\n",
    "autolabel(ax, rects1)\n",
    "autolabel(ax, rects2)\n",
    "\n",
    "                 \n",
    "ratio = [round(t_cpu[i]/t_cuda[i],2) for i in range(len(labels))]\n",
    "ax1 = fig.add_subplot(212)\n",
    "rect = ax1.bar(x, height = ratio, width = 0.35, label = 'Ratio', color = '#97b072')\n",
    "ax1.set_xlabel('Road Length (km)')\n",
    "ax1.set_ylabel('Acceleration by CUDA')\n",
    "ax1.set_ylim(0, int(max(ratio)) * 1.2)\n",
    "ax1.set_xticks(x)\n",
    "ax1.set_xticklabels(labels)\n",
    "autolabel(ax1, rect)\n",
    "# plt.savefig(\"re-op.png\", dpi=150)"
   ]
  },
  {
   "cell_type": "markdown",
   "metadata": {},
   "source": [
    "When road length > 10km, CUDA is faster than CPU, even ~10x faster for the 100km case."
   ]
  },
  {
   "cell_type": "markdown",
   "metadata": {},
   "source": [
    "### Part 4. Comparison btw CPU and Numba CUDA for optimized algorithm with lane changing"
   ]
  },
  {
   "cell_type": "markdown",
   "metadata": {},
   "source": [
    "If **lane changing** is included, extra safety checking is required, this is nothing but memory read. We expect more superior performance for CUDA."
   ]
  },
  {
   "cell_type": "code",
   "execution_count": 115,
   "metadata": {},
   "outputs": [],
   "source": [
    "import time\n",
    "import numpy as np\n",
    "from matplotlib import pyplot as plt\n",
    "from integrate import traffic_cpu_lc, traffic_cuda_lc\n",
    "\n",
    "# define parameters\n",
    "sim_steps = 100\n",
    "road_length = 100\n",
    "cell_size = 0.1\n",
    "traffic_density = 30"
   ]
  },
  {
   "cell_type": "markdown",
   "metadata": {},
   "source": [
    "Do some initial tests:"
   ]
  },
  {
   "cell_type": "code",
   "execution_count": 53,
   "metadata": {},
   "outputs": [
    {
     "name": "stdout",
     "output_type": "stream",
     "text": [
      "2.32 s ± 88.6 ms per loop (mean ± std. dev. of 7 runs, 1 loop each)\n"
     ]
    }
   ],
   "source": [
    "%timeit road, speed, accel = traffic_cpu_lc(sim_steps, road_length, cell_size, traffic_density)"
   ]
  },
  {
   "cell_type": "code",
   "execution_count": 54,
   "metadata": {},
   "outputs": [
    {
     "name": "stdout",
     "output_type": "stream",
     "text": [
      "185 ms ± 4.31 ms per loop (mean ± std. dev. of 7 runs, 1 loop each)\n"
     ]
    }
   ],
   "source": [
    "%timeit road, speed, accel = traffic_cuda_lc(sim_steps, road_length, cell_size, traffic_density)"
   ]
  },
  {
   "cell_type": "markdown",
   "metadata": {},
   "source": [
    "Run more cases:"
   ]
  },
  {
   "cell_type": "code",
   "execution_count": 116,
   "metadata": {},
   "outputs": [],
   "source": [
    "rls = [1, 5, 10, 20, 40, 100]\n",
    "t_cpu = []\n",
    "t_cuda = []\n",
    "\n",
    "for rl in rls:\n",
    "    # cpu, optimized\n",
    "    t0 = time.time()\n",
    "    traffic_cpu_lc(sim_steps, rl, cell_size, traffic_density)\n",
    "    t1 = time.time()\n",
    "    t_cpu.append(t1 - t0)\n",
    "\n",
    "    \n",
    "    # cuda, optimized\n",
    "    t0 = time.time()\n",
    "    traffic_cuda_lc(sim_steps, rl, cell_size, traffic_density)\n",
    "    t1 = time.time()\n",
    "    t_cuda.append(t1 - t0)"
   ]
  },
  {
   "cell_type": "code",
   "execution_count": 117,
   "metadata": {},
   "outputs": [
    {
     "data": {
      "image/png": "[encoded data removed]",
      "text/plain": [
       "<Figure size 720x432 with 2 Axes>"
      ]
     },
     "metadata": {
      "needs_background": "light"
     },
     "output_type": "display_data"
    }
   ],
   "source": [
    "def autolabel(ax, rects):\n",
    "    \"\"\"Attach a text label above each bar in *rects*, displaying its height.\"\"\"\n",
    "    for rect in rects:\n",
    "        height = rect.get_height()\n",
    "        ax.annotate('{}'.format(height),\n",
    "                    xy=(rect.get_x() + rect.get_width() / 2, height),\n",
    "                    xytext=(0, 3),  # 3 points vertical offset\n",
    "                    textcoords=\"offset points\",\n",
    "                    ha='center', va='bottom')\n",
    "\n",
    "plt.rc('font', size=13) \n",
    "fig = plt.figure(figsize = (10, 6))\n",
    "ax = fig.add_subplot(211)\n",
    "\n",
    "width = 0.35  # the width of the bars\n",
    "labels = [str(rl) for rl in rls]\n",
    "x = np.arange(len(labels))  # the label locations\n",
    "t_cpu_rd = [round(t, 3) for t in t_cpu]\n",
    "t_cuda_rd = [round(t, 3) for t in t_cuda]\n",
    "\n",
    "rects1 = ax.bar(x - width/2, height = t_cpu_rd, width = width, label = 'CPU, Optimized, w/ Lane Changing')\n",
    "rects2 = ax.bar(x + width/2, height = t_cuda_rd, width = width, label = 'CUDA, Optimized, w/ Lane Changing')\n",
    "# ax.set_xlabel('Road Length (km)')\n",
    "ax.set_ylabel('Execution Time (s)')\n",
    "ax.set_ylim(0, max(t_cpu) * 1.2)\n",
    "ax.set_xticks(x)\n",
    "ax.set_xticklabels(labels)\n",
    "ax.legend()\n",
    "autolabel(ax, rects1)\n",
    "autolabel(ax, rects2)\n",
    "\n",
    "                 \n",
    "ratio = [round(t_cpu[i]/t_cuda[i],2) for i in range(len(labels))]\n",
    "ax1 = fig.add_subplot(212)\n",
    "rect = ax1.bar(x, height = ratio, width = 0.35, label = 'Ratio', color = '#97b072')\n",
    "ax1.set_xlabel('Road Length (km)')\n",
    "ax1.set_ylabel('Acceleration by CUDA')\n",
    "ax1.set_ylim(0, int(max(ratio)) * 1.3)\n",
    "ax1.set_xticks(x)\n",
    "ax1.set_xticklabels(labels)\n",
    "autolabel(ax1, rect)\n",
    "# plt.savefig(\"re-op-lc.png\", dpi=150)"
   ]
  },
  {
   "cell_type": "markdown",
   "metadata": {},
   "source": [
    "CUDA still beats CPU, and the acceleration is slightly more than the previous cases without lane changing."
   ]
  },
  {
   "cell_type": "markdown",
   "metadata": {},
   "source": [
    "### Part 5. Animation"
   ]
  },
  {
   "cell_type": "markdown",
   "metadata": {},
   "source": [
    "To create an animation, you need to have ```celluloid``` package. Use this command:\n",
    "```\n",
    "pip install celluloid\n",
    "```\n",
    "If you don't want this package, an animation is already included in ```imgs/animation.gif```, as shown in the bottom."
   ]
  },
  {
   "cell_type": "code",
   "execution_count": 10,
   "metadata": {},
   "outputs": [],
   "source": [
    "import numpy as np\n",
    "from matplotlib import pyplot as plt\n",
    "from matplotlib import colors\n",
    "from celluloid import Camera\n",
    "from integrate import traffic_cpu_lc\n",
    "\n",
    "road_length = 0.1 # use a small length for better demo\n",
    "cell_size = 1\n",
    "traffic_density = 30"
   ]
  },
  {
   "cell_type": "code",
   "execution_count": 12,
   "metadata": {},
   "outputs": [
    {
     "data": {
      "image/png": "[encoded data removed]",
      "text/plain": [
       "<Figure size 1152x50 with 1 Axes>"
      ]
     },
     "metadata": {
      "needs_background": "light"
     },
     "output_type": "display_data"
    }
   ],
   "source": [
    "steps = list(range(20))\n",
    "fig = plt.figure(figsize=(16, 0.7))\n",
    "ax = fig.add_subplot(111)\n",
    "camera = Camera(fig)\n",
    "for step in steps:\n",
    "    road, _, _ = traffic_cpu_lc(step, road_length, cell_size, traffic_density)\n",
    "    r = np.array(road, dtype = np.bool)\n",
    "    cmap = colors.ListedColormap(['white', 'black'])\n",
    "    ax.pcolor(r, cmap = cmap, edgecolors='orange', linewidths=0.2)\n",
    "    camera.snap()\n",
    "animation = camera.animate()\n",
    "animation.save('imgs/animation.gif', writer = 'imagemagick')"
   ]
  },
  {
   "cell_type": "markdown",
   "metadata": {},
   "source": [
    "If you have created a new .git image from the above code cell, double-click the image below, and run the HTML code again to see your updates."
   ]
  },
  {
   "cell_type": "markdown",
   "metadata": {},
   "source": [
    "<img src=\"imgs/animation.gif\" width=\"1300\">"
   ]
  },
  {
   "cell_type": "markdown",
   "metadata": {},
   "source": [
    "### Part 6.  Converge to equilibrium state"
   ]
  },
  {
   "cell_type": "markdown",
   "metadata": {},
   "source": [
    "We are also interested in how much time steps it takes to converge to an equilibrium state."
   ]
  },
  {
   "cell_type": "code",
   "execution_count": 58,
   "metadata": {},
   "outputs": [],
   "source": [
    "import numpy as np\n",
    "from matplotlib import pyplot as plt\n",
    "from integrate import traffic_cpu_lc\n",
    "\n",
    "road_length = 0.5\n",
    "cell_size = 0.1\n",
    "traffic_density = 30"
   ]
  },
  {
   "cell_type": "code",
   "execution_count": 61,
   "metadata": {},
   "outputs": [],
   "source": [
    "speeds = []\n",
    "steps = list(range(100))\n",
    "for step in steps:\n",
    "    road, speed, accel = traffic_cpu_lc(step, road_length, cell_size, traffic_density)\n",
    "    ncar = np.sum(np.array(road, dtype = np.bool))\n",
    "    vm = np.sum(speed)/ncar * 3.6\n",
    "    speeds.append(vm)"
   ]
  },
  {
   "cell_type": "code",
   "execution_count": 62,
   "metadata": {},
   "outputs": [
    {
     "data": {
      "text/plain": [
       "Text(0, 0.5, 'Average speed (km/h)')"
      ]
     },
     "execution_count": 62,
     "metadata": {},
     "output_type": "execute_result"
    },
    {
     "data": {
      "image/png": "[encoded data removed]",
      "text/plain": [
       "<Figure size 576x288 with 1 Axes>"
      ]
     },
     "metadata": {
      "needs_background": "light"
     },
     "output_type": "display_data"
    }
   ],
   "source": [
    "plt.rc('font', size=12)\n",
    "fig = plt.figure(figsize=(8, 4))\n",
    "ax = fig.add_subplot(111)\n",
    "ax.plot(steps, speeds)\n",
    "ax.set_xlabel('Time Step')\n",
    "ax.set_ylabel('Average speed (km/h)')"
   ]
  },
  {
   "cell_type": "markdown",
   "metadata": {},
   "source": [
    "We can see, the system converges at ~ 50 time steps (Each time step is 0.1s)."
   ]
  },
  {
   "cell_type": "code",
   "execution_count": null,
   "metadata": {},
   "outputs": [],
   "source": []
  }
 ],
 "metadata": {
  "kernelspec": {
   "display_name": "Python 3",
   "language": "python",
   "name": "python3"
  },
  "language_info": {
   "codemirror_mode": {
    "name": "ipython",
    "version": 3
   },
   "file_extension": ".py",
   "mimetype": "text/x-python",
   "name": "python",
   "nbconvert_exporter": "python",
   "pygments_lexer": "ipython3",
   "version": "3.7.4"
  }
 },
 "nbformat": 4,
 "nbformat_minor": 4
}
